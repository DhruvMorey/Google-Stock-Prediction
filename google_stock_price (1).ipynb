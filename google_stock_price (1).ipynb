{
  "nbformat": 4,
  "nbformat_minor": 0,
  "metadata": {
    "colab": {
      "provenance": []
    },
    "kernelspec": {
      "name": "python3",
      "display_name": "Python 3"
    },
    "language_info": {
      "name": "python"
    }
  },
  "cells": [
    {
      "cell_type": "code",
      "execution_count": 16,
      "metadata": {
        "id": "4W3JWGgzJibC"
      },
      "outputs": [],
      "source": [
        "import numpy as np\n",
        "import pandas as pd\n",
        "import matplotlib.pyplot as plt\n",
        "from sklearn.preprocessing import MinMaxScaler\n",
        "from keras.models import Sequential\n",
        "from keras.layers import Dense,LSTM,Dropout\n"
      ]
    },
    {
      "cell_type": "code",
      "source": [
        "# Load the dataset\n",
        "data = pd.read_csv('/content/drive/MyDrive/google.csv')\n"
      ],
      "metadata": {
        "id": "Dh0tnE1pJo-R"
      },
      "execution_count": 17,
      "outputs": []
    },
    {
      "cell_type": "code",
      "source": [
        "data.head()\n"
      ],
      "metadata": {
        "colab": {
          "base_uri": "https://localhost:8080/",
          "height": 206
        },
        "id": "BHmtwWADNUlG",
        "outputId": "acab3af8-c352-4fbe-b9cd-e7b00d7f87af"
      },
      "execution_count": 18,
      "outputs": [
        {
          "output_type": "execute_result",
          "data": {
            "text/plain": [
              "         Date       High        Low       Open      Close      Volume  \\\n",
              "0  2004-08-19  51.835709  47.800831  49.813290  49.982655  44871361.0   \n",
              "1  2004-08-20  54.336334  50.062355  50.316402  53.952770  22942874.0   \n",
              "2  2004-08-23  56.528118  54.321388  55.168217  54.495735  18342897.0   \n",
              "3  2004-08-24  55.591629  51.591621  55.412300  52.239197  15319808.0   \n",
              "4  2004-08-25  53.798351  51.746044  52.284027  52.802086   9232276.0   \n",
              "\n",
              "   Adj Close  \n",
              "0  49.982655  \n",
              "1  53.952770  \n",
              "2  54.495735  \n",
              "3  52.239197  \n",
              "4  52.802086  "
            ],
            "text/html": [
              "\n",
              "  <div id=\"df-6dadac56-c445-4b93-b41e-44157c632b9c\">\n",
              "    <div class=\"colab-df-container\">\n",
              "      <div>\n",
              "<style scoped>\n",
              "    .dataframe tbody tr th:only-of-type {\n",
              "        vertical-align: middle;\n",
              "    }\n",
              "\n",
              "    .dataframe tbody tr th {\n",
              "        vertical-align: top;\n",
              "    }\n",
              "\n",
              "    .dataframe thead th {\n",
              "        text-align: right;\n",
              "    }\n",
              "</style>\n",
              "<table border=\"1\" class=\"dataframe\">\n",
              "  <thead>\n",
              "    <tr style=\"text-align: right;\">\n",
              "      <th></th>\n",
              "      <th>Date</th>\n",
              "      <th>High</th>\n",
              "      <th>Low</th>\n",
              "      <th>Open</th>\n",
              "      <th>Close</th>\n",
              "      <th>Volume</th>\n",
              "      <th>Adj Close</th>\n",
              "    </tr>\n",
              "  </thead>\n",
              "  <tbody>\n",
              "    <tr>\n",
              "      <th>0</th>\n",
              "      <td>2004-08-19</td>\n",
              "      <td>51.835709</td>\n",
              "      <td>47.800831</td>\n",
              "      <td>49.813290</td>\n",
              "      <td>49.982655</td>\n",
              "      <td>44871361.0</td>\n",
              "      <td>49.982655</td>\n",
              "    </tr>\n",
              "    <tr>\n",
              "      <th>1</th>\n",
              "      <td>2004-08-20</td>\n",
              "      <td>54.336334</td>\n",
              "      <td>50.062355</td>\n",
              "      <td>50.316402</td>\n",
              "      <td>53.952770</td>\n",
              "      <td>22942874.0</td>\n",
              "      <td>53.952770</td>\n",
              "    </tr>\n",
              "    <tr>\n",
              "      <th>2</th>\n",
              "      <td>2004-08-23</td>\n",
              "      <td>56.528118</td>\n",
              "      <td>54.321388</td>\n",
              "      <td>55.168217</td>\n",
              "      <td>54.495735</td>\n",
              "      <td>18342897.0</td>\n",
              "      <td>54.495735</td>\n",
              "    </tr>\n",
              "    <tr>\n",
              "      <th>3</th>\n",
              "      <td>2004-08-24</td>\n",
              "      <td>55.591629</td>\n",
              "      <td>51.591621</td>\n",
              "      <td>55.412300</td>\n",
              "      <td>52.239197</td>\n",
              "      <td>15319808.0</td>\n",
              "      <td>52.239197</td>\n",
              "    </tr>\n",
              "    <tr>\n",
              "      <th>4</th>\n",
              "      <td>2004-08-25</td>\n",
              "      <td>53.798351</td>\n",
              "      <td>51.746044</td>\n",
              "      <td>52.284027</td>\n",
              "      <td>52.802086</td>\n",
              "      <td>9232276.0</td>\n",
              "      <td>52.802086</td>\n",
              "    </tr>\n",
              "  </tbody>\n",
              "</table>\n",
              "</div>\n",
              "      <button class=\"colab-df-convert\" onclick=\"convertToInteractive('df-6dadac56-c445-4b93-b41e-44157c632b9c')\"\n",
              "              title=\"Convert this dataframe to an interactive table.\"\n",
              "              style=\"display:none;\">\n",
              "        \n",
              "  <svg xmlns=\"http://www.w3.org/2000/svg\" height=\"24px\"viewBox=\"0 0 24 24\"\n",
              "       width=\"24px\">\n",
              "    <path d=\"M0 0h24v24H0V0z\" fill=\"none\"/>\n",
              "    <path d=\"M18.56 5.44l.94 2.06.94-2.06 2.06-.94-2.06-.94-.94-2.06-.94 2.06-2.06.94zm-11 1L8.5 8.5l.94-2.06 2.06-.94-2.06-.94L8.5 2.5l-.94 2.06-2.06.94zm10 10l.94 2.06.94-2.06 2.06-.94-2.06-.94-.94-2.06-.94 2.06-2.06.94z\"/><path d=\"M17.41 7.96l-1.37-1.37c-.4-.4-.92-.59-1.43-.59-.52 0-1.04.2-1.43.59L10.3 9.45l-7.72 7.72c-.78.78-.78 2.05 0 2.83L4 21.41c.39.39.9.59 1.41.59.51 0 1.02-.2 1.41-.59l7.78-7.78 2.81-2.81c.8-.78.8-2.07 0-2.86zM5.41 20L4 18.59l7.72-7.72 1.47 1.35L5.41 20z\"/>\n",
              "  </svg>\n",
              "      </button>\n",
              "      \n",
              "  <style>\n",
              "    .colab-df-container {\n",
              "      display:flex;\n",
              "      flex-wrap:wrap;\n",
              "      gap: 12px;\n",
              "    }\n",
              "\n",
              "    .colab-df-convert {\n",
              "      background-color: #E8F0FE;\n",
              "      border: none;\n",
              "      border-radius: 50%;\n",
              "      cursor: pointer;\n",
              "      display: none;\n",
              "      fill: #1967D2;\n",
              "      height: 32px;\n",
              "      padding: 0 0 0 0;\n",
              "      width: 32px;\n",
              "    }\n",
              "\n",
              "    .colab-df-convert:hover {\n",
              "      background-color: #E2EBFA;\n",
              "      box-shadow: 0px 1px 2px rgba(60, 64, 67, 0.3), 0px 1px 3px 1px rgba(60, 64, 67, 0.15);\n",
              "      fill: #174EA6;\n",
              "    }\n",
              "\n",
              "    [theme=dark] .colab-df-convert {\n",
              "      background-color: #3B4455;\n",
              "      fill: #D2E3FC;\n",
              "    }\n",
              "\n",
              "    [theme=dark] .colab-df-convert:hover {\n",
              "      background-color: #434B5C;\n",
              "      box-shadow: 0px 1px 3px 1px rgba(0, 0, 0, 0.15);\n",
              "      filter: drop-shadow(0px 1px 2px rgba(0, 0, 0, 0.3));\n",
              "      fill: #FFFFFF;\n",
              "    }\n",
              "  </style>\n",
              "\n",
              "      <script>\n",
              "        const buttonEl =\n",
              "          document.querySelector('#df-6dadac56-c445-4b93-b41e-44157c632b9c button.colab-df-convert');\n",
              "        buttonEl.style.display =\n",
              "          google.colab.kernel.accessAllowed ? 'block' : 'none';\n",
              "\n",
              "        async function convertToInteractive(key) {\n",
              "          const element = document.querySelector('#df-6dadac56-c445-4b93-b41e-44157c632b9c');\n",
              "          const dataTable =\n",
              "            await google.colab.kernel.invokeFunction('convertToInteractive',\n",
              "                                                     [key], {});\n",
              "          if (!dataTable) return;\n",
              "\n",
              "          const docLinkHtml = 'Like what you see? Visit the ' +\n",
              "            '<a target=\"_blank\" href=https://colab.research.google.com/notebooks/data_table.ipynb>data table notebook</a>'\n",
              "            + ' to learn more about interactive tables.';\n",
              "          element.innerHTML = '';\n",
              "          dataTable['output_type'] = 'display_data';\n",
              "          await google.colab.output.renderOutput(dataTable, element);\n",
              "          const docLink = document.createElement('div');\n",
              "          docLink.innerHTML = docLinkHtml;\n",
              "          element.appendChild(docLink);\n",
              "        }\n",
              "      </script>\n",
              "    </div>\n",
              "  </div>\n",
              "  "
            ]
          },
          "metadata": {},
          "execution_count": 18
        }
      ]
    },
    {
      "cell_type": "code",
      "source": [
        "data.info()"
      ],
      "metadata": {
        "colab": {
          "base_uri": "https://localhost:8080/"
        },
        "id": "rcDkwmu8NVIJ",
        "outputId": "c172aacd-0ece-48fc-9fbe-3720824d7cd3"
      },
      "execution_count": 19,
      "outputs": [
        {
          "output_type": "stream",
          "name": "stdout",
          "text": [
            "<class 'pandas.core.frame.DataFrame'>\n",
            "RangeIndex: 4317 entries, 0 to 4316\n",
            "Data columns (total 7 columns):\n",
            " #   Column     Non-Null Count  Dtype  \n",
            "---  ------     --------------  -----  \n",
            " 0   Date       4317 non-null   object \n",
            " 1   High       4317 non-null   float64\n",
            " 2   Low        4317 non-null   float64\n",
            " 3   Open       4317 non-null   float64\n",
            " 4   Close      4317 non-null   float64\n",
            " 5   Volume     4317 non-null   float64\n",
            " 6   Adj Close  4317 non-null   float64\n",
            "dtypes: float64(6), object(1)\n",
            "memory usage: 236.2+ KB\n"
          ]
        }
      ]
    },
    {
      "cell_type": "code",
      "source": [
        "data[\"Close\"]=pd.to_numeric(data.Close,errors='coerce')\n",
        "data = data.dropna()\n",
        "trainData = data.iloc[:,4:5].values\n"
      ],
      "metadata": {
        "id": "2rsuXBBGNW-d"
      },
      "execution_count": 20,
      "outputs": []
    },
    {
      "cell_type": "code",
      "source": [
        "data.info()"
      ],
      "metadata": {
        "colab": {
          "base_uri": "https://localhost:8080/"
        },
        "id": "FnGTjza5NZfB",
        "outputId": "3f24e84c-4ba9-438f-cc52-e9ed7ddf5b46"
      },
      "execution_count": 21,
      "outputs": [
        {
          "output_type": "stream",
          "name": "stdout",
          "text": [
            "<class 'pandas.core.frame.DataFrame'>\n",
            "RangeIndex: 4317 entries, 0 to 4316\n",
            "Data columns (total 7 columns):\n",
            " #   Column     Non-Null Count  Dtype  \n",
            "---  ------     --------------  -----  \n",
            " 0   Date       4317 non-null   object \n",
            " 1   High       4317 non-null   float64\n",
            " 2   Low        4317 non-null   float64\n",
            " 3   Open       4317 non-null   float64\n",
            " 4   Close      4317 non-null   float64\n",
            " 5   Volume     4317 non-null   float64\n",
            " 6   Adj Close  4317 non-null   float64\n",
            "dtypes: float64(6), object(1)\n",
            "memory usage: 236.2+ KB\n"
          ]
        }
      ]
    },
    {
      "cell_type": "code",
      "source": [
        "sc = MinMaxScaler(feature_range=(0,1))\n",
        "trainData = sc.fit_transform(trainData)\n",
        "trainData.shape\n"
      ],
      "metadata": {
        "colab": {
          "base_uri": "https://localhost:8080/"
        },
        "id": "BDjttYUVNbae",
        "outputId": "8520d10a-5aaa-477d-9246-d6211d367e91"
      },
      "execution_count": 22,
      "outputs": [
        {
          "output_type": "execute_result",
          "data": {
            "text/plain": [
              "(4317, 1)"
            ]
          },
          "metadata": {},
          "execution_count": 22
        }
      ]
    },
    {
      "cell_type": "code",
      "source": [
        "X_train = []\n",
        "y_train = []\n"
      ],
      "metadata": {
        "id": "OnRFKFjCNdi9"
      },
      "execution_count": 23,
      "outputs": []
    },
    {
      "cell_type": "code",
      "source": [
        "for i in range (60,1149): #60 : timestep // 1149 : length of the data\n",
        "    X_train.append(trainData[i-60:i,0]) \n",
        "    y_train.append(trainData[i,0])\n",
        "\n",
        "X_train,y_train = np.array(X_train),np.array(y_train)\n",
        "\n",
        "X_train = np.reshape(X_train,(X_train.shape[0],X_train.shape[1],1)) #adding the batch_size axis\n",
        "X_train.shape\n",
        "\n",
        "model = Sequential()\n",
        "\n"
      ],
      "metadata": {
        "id": "uWv5C1kSNfrC"
      },
      "execution_count": 24,
      "outputs": []
    },
    {
      "cell_type": "code",
      "source": [
        "model.add(LSTM(units=100, return_sequences = True, input_shape =(X_train.shape[1],1)))\n",
        "model.add(Dropout(0.2))\n",
        "\n",
        "model.add(LSTM(units=100, return_sequences = True))\n",
        "model.add(Dropout(0.2))\n",
        "\n",
        "model.add(LSTM(units=100, return_sequences = True))\n",
        "model.add(Dropout(0.2))\n",
        "\n",
        "model.add(LSTM(units=100, return_sequences = False))\n",
        "model.add(Dropout(0.2))\n"
      ],
      "metadata": {
        "id": "H8nroXOQNiaG"
      },
      "execution_count": 25,
      "outputs": []
    },
    {
      "cell_type": "code",
      "source": [
        "model.add(Dense(units =1))\n",
        "model.compile(optimizer='adam',loss=\"mean_squared_error\")\n"
      ],
      "metadata": {
        "id": "HeBK3CAlNky-"
      },
      "execution_count": 26,
      "outputs": []
    },
    {
      "cell_type": "code",
      "source": [
        "hist = model.fit(X_train, y_train, epochs = 20, batch_size = 32, verbose=2)"
      ],
      "metadata": {
        "colab": {
          "base_uri": "https://localhost:8080/"
        },
        "id": "xzfatLQmONUK",
        "outputId": "42f7b429-ab78-4db7-e3e4-fe8ffbe743e3"
      },
      "execution_count": 27,
      "outputs": [
        {
          "output_type": "stream",
          "name": "stdout",
          "text": [
            "Epoch 1/20\n",
            "35/35 - 33s - loss: 4.5681e-04 - 33s/epoch - 948ms/step\n",
            "Epoch 2/20\n",
            "35/35 - 10s - loss: 6.6253e-05 - 10s/epoch - 280ms/step\n",
            "Epoch 3/20\n",
            "35/35 - 8s - loss: 6.1925e-05 - 8s/epoch - 231ms/step\n",
            "Epoch 4/20\n",
            "35/35 - 10s - loss: 4.4793e-05 - 10s/epoch - 282ms/step\n",
            "Epoch 5/20\n",
            "35/35 - 10s - loss: 4.1702e-05 - 10s/epoch - 278ms/step\n",
            "Epoch 6/20\n",
            "35/35 - 8s - loss: 4.2871e-05 - 8s/epoch - 230ms/step\n",
            "Epoch 7/20\n",
            "35/35 - 12s - loss: 5.3883e-05 - 12s/epoch - 347ms/step\n",
            "Epoch 8/20\n",
            "35/35 - 8s - loss: 4.8172e-05 - 8s/epoch - 222ms/step\n",
            "Epoch 9/20\n",
            "35/35 - 11s - loss: 3.6511e-05 - 11s/epoch - 305ms/step\n",
            "Epoch 10/20\n",
            "35/35 - 12s - loss: 4.1102e-05 - 12s/epoch - 335ms/step\n",
            "Epoch 11/20\n",
            "35/35 - 8s - loss: 3.4666e-05 - 8s/epoch - 237ms/step\n",
            "Epoch 12/20\n",
            "35/35 - 13s - loss: 3.5150e-05 - 13s/epoch - 371ms/step\n",
            "Epoch 13/20\n",
            "35/35 - 10s - loss: 2.8328e-05 - 10s/epoch - 279ms/step\n",
            "Epoch 14/20\n",
            "35/35 - 9s - loss: 2.7986e-05 - 9s/epoch - 252ms/step\n",
            "Epoch 15/20\n",
            "35/35 - 9s - loss: 3.1435e-05 - 9s/epoch - 256ms/step\n",
            "Epoch 16/20\n",
            "35/35 - 10s - loss: 3.6186e-05 - 10s/epoch - 285ms/step\n",
            "Epoch 17/20\n",
            "35/35 - 8s - loss: 3.2298e-05 - 8s/epoch - 228ms/step\n",
            "Epoch 18/20\n",
            "35/35 - 10s - loss: 3.1289e-05 - 10s/epoch - 275ms/step\n",
            "Epoch 19/20\n",
            "35/35 - 10s - loss: 2.6629e-05 - 10s/epoch - 278ms/step\n",
            "Epoch 20/20\n",
            "35/35 - 8s - loss: 2.7206e-05 - 8s/epoch - 219ms/step\n"
          ]
        }
      ]
    },
    {
      "cell_type": "code",
      "source": [
        "plt.plot(hist.history['loss'])\n",
        "plt.title('Training model loss')\n",
        "plt.ylabel('loss')\n",
        "plt.xlabel('epoch')\n",
        "plt.legend(['train'], loc='upper left')\n",
        "plt.show()\n"
      ],
      "metadata": {
        "colab": {
          "base_uri": "https://localhost:8080/",
          "height": 472
        },
        "id": "mlzo0hZbOP9y",
        "outputId": "387fea59-8cf7-4392-a23c-4a8e9ed0120f"
      },
      "execution_count": 28,
      "outputs": [
        {
          "output_type": "display_data",
          "data": {
            "text/plain": [
              "<Figure size 640x480 with 1 Axes>"
            ],
            "image/png": "[encoded data removed]"
          },
          "metadata": {}
        }
      ]
    },
    {
      "cell_type": "code",
      "source": [
        "testData = pd.read_csv('/content/drive/MyDrive/google.csv')\n",
        "testData[\"Close\"]=pd.to_numeric(testData.Close,errors='coerce')\n",
        "testData = testData.dropna()\n",
        "testData = testData.iloc[:,4:5]\n",
        "y_test = testData.iloc[60:,0:].values \n",
        "#input array for the model\n",
        "inputClosing = testData.iloc[:,0:].values \n",
        "inputClosing_scaled = sc.transform(inputClosing)\n",
        "inputClosing_scaled.shape\n",
        "X_test = []\n",
        "length = len(testData)\n",
        "timestep = 60\n",
        "for i in range(timestep,length):  \n",
        "    X_test.append(inputClosing_scaled[i-timestep:i,0])\n",
        "X_test = np.array(X_test)\n",
        "X_test = np.reshape(X_test,(X_test.shape[0],X_test.shape[1],1))\n",
        "X_test.shape\n"
      ],
      "metadata": {
        "colab": {
          "base_uri": "https://localhost:8080/"
        },
        "id": "sdflNyRPOw9T",
        "outputId": "e8897200-19bd-4469-cc92-baa404e14419"
      },
      "execution_count": 30,
      "outputs": [
        {
          "output_type": "execute_result",
          "data": {
            "text/plain": [
              "(4257, 60, 1)"
            ]
          },
          "metadata": {},
          "execution_count": 30
        }
      ]
    },
    {
      "cell_type": "code",
      "source": [
        "y_pred = model.predict(X_test)\n",
        "import pandas as pd\n",
        "df = pd.DataFrame(y_pred, columns = ['Predicted stock Value'])\n",
        "print(df)\n"
      ],
      "metadata": {
        "colab": {
          "base_uri": "https://localhost:8080/"
        },
        "id": "X-MDZqW-PGUT",
        "outputId": "59fdc955-bbaa-4fc6-93b5-8f1f6b2aff75"
      },
      "execution_count": 31,
      "outputs": [
        {
          "output_type": "stream",
          "name": "stdout",
          "text": [
            "134/134 [==============================] - 16s 87ms/step\n",
            "      Predicted stock Value\n",
            "0                  0.015771\n",
            "1                  0.015151\n",
            "2                  0.014593\n",
            "3                  0.014131\n",
            "4                  0.013762\n",
            "...                     ...\n",
            "4252               0.788612\n",
            "4253               0.784142\n",
            "4254               0.780177\n",
            "4255               0.777313\n",
            "4256               0.775974\n",
            "\n",
            "[4257 rows x 1 columns]\n"
          ]
        }
      ]
    },
    {
      "cell_type": "code",
      "source": [
        "predicted_price = sc.inverse_transform(y_pred)"
      ],
      "metadata": {
        "id": "TT3wp3nFQKEQ"
      },
      "execution_count": 32,
      "outputs": []
    },
    {
      "cell_type": "code",
      "source": [
        "plt.plot(y_test, color = 'red', label = 'Actual Stock Price')\n",
        "plt.plot(predicted_price, color = 'green', label = 'Predicted Stock Price')\n",
        "plt.title('Google stock price prediction')\n",
        "plt.xlabel('Time')\n",
        "plt.ylabel('Stock Price')\n",
        "plt.legend()\n",
        "plt.show()\n"
      ],
      "metadata": {
        "colab": {
          "base_uri": "https://localhost:8080/",
          "height": 472
        },
        "id": "zYAuTgb0QTAc",
        "outputId": "46226c1b-c404-4f05-d901-8a0aeb81809b"
      },
      "execution_count": 33,
      "outputs": [
        {
          "output_type": "display_data",
          "data": {
            "text/plain": [
              "<Figure size 640x480 with 1 Axes>"
            ],
            "image/png": "[encoded data removed]"
          },
          "metadata": {}
        }
      ]
    }
  ]
}